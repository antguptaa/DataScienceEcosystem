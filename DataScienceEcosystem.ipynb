{
 "cells": [
  {
   "cell_type": "markdown",
   "id": "4297f97c",
   "metadata": {},
   "source": [
    "# Data Science Tools and Ecosystem"
   ]
  },
  {
   "cell_type": "markdown",
   "id": "f2d26bb6",
   "metadata": {},
   "source": [
    "In this notebook, Data Science Tools and Ecosystem are summarized."
   ]
  },
  {
   "cell_type": "markdown",
   "id": "89733997",
   "metadata": {},
   "source": [
    "**Objectives:\n",
    "\n",
    "1.Popular languages used by Data Scientists\n",
    "2.Commonly used librarues in data science\n",
    "3.Various Data Science tools"
   ]
  },
  {
   "cell_type": "markdown",
   "id": "555a7819",
   "metadata": {},
   "source": [
    "Some of the popular languages that Data Scientists use are:\n",
    "1.Python\n",
    "2.SQL\n",
    "3.R\n",
    "4.Scala"
   ]
  },
  {
   "cell_type": "markdown",
   "id": "06cdaaf2",
   "metadata": {},
   "source": [
    "Some of the commonly used libraries used by Data Scientists include:\n",
    "1.Pandas\n",
    "2.Matplotlib\n",
    "3.Seaborn\n",
    "4.Numpy\n",
    "5.Sklearn"
   ]
  },
  {
   "cell_type": "markdown",
   "id": "1a41cdcf",
   "metadata": {},
   "source": [
    "Data Science Tools\n",
    "\n",
    "| Category          | Tool                      | Description                                              |\n",
    "|-------------------|---------------------------|----------------------------------------------------------|\n",
    "|Programming        | Python                    | General-purpose programming language with rich libraries |\n",
    "|                   | R                         | Statistical computing and graphics                       |\n",
    "|                   | Julia                     | High-performance language for technical computing        |\n",
    "|Data Analysis      | Pandas                    | Data manipulation and analysis library for Python        |\n",
    "|                   | NumPy                     | Fundamental package for scientific computing with Python |\n",
    "|                   | RStudio                   | Integrated development environment for R                 |\n",
    "|Visualization      | Matplotlib                | 2D plotting library for Python                           |\n",
    "|                   | Seaborn                   | Statistical data visualization based on Matplotlib       |\n",
    "|                   | Plotly                    | Interactive plotting library for Python                  |\n",
    "|Machine Learning   | Scikit-learn              | Simple and efficient tools for data mining and data analysis in Python |\n",
    "|                   | TensorFlow                | Open-source machine learning framework by Google         |\n",
    "|                   | PyTorch                   | Open-source deep learning framework by Facebook          |\n",
    "|Big Data           | Apache Hadoop             | Framework for distributed storage and processing of large data sets |\n",
    "|                   | Apache Spark              | Fast and general-purpose cluster computing system        |\n",
    "|Database           | SQL                       | Structured Query Language for managing and manipulating relational databases |\n",
    "|                   | MongoDB                   | NoSQL database for handling large amounts of data        |\n",
    "|                   | SQLite                    | Embedded relational database management system           |\n",
    "|Version Control    | Git                       | Distributed version control system                       |\n",
    "|                   | GitHub                    | Web-based platform for version control and collaboration |\n",
    "|                   | GitLab                    | Web-based Git repository manager                         |\n",
    "\n",
    "\n"
   ]
  },
  {
   "cell_type": "markdown",
   "id": "6c4bd18c",
   "metadata": {},
   "source": [
    "### Below are a few examples of evaluating arithmetic expressions in Python"
   ]
  },
  {
   "cell_type": "code",
   "execution_count": 9,
   "id": "afa3d3d5",
   "metadata": {},
   "outputs": [
    {
     "data": {
      "text/plain": [
       "17"
      ]
     },
     "execution_count": 9,
     "metadata": {},
     "output_type": "execute_result"
    }
   ],
   "source": [
    "#  This a simple arithmetic expression to mutiply then add integers\n",
    "(3*4)+5"
   ]
  },
  {
   "cell_type": "code",
   "execution_count": 8,
   "id": "95cee7a4",
   "metadata": {},
   "outputs": [
    {
     "name": "stdout",
     "output_type": "stream",
     "text": [
      "200 minutes converted to hours will be 3.3333333333333335\n"
     ]
    }
   ],
   "source": [
    "#  This will convert 200 minutes to hours by diving by 60\n",
    "\n",
    "x=200\n",
    "print(x,\"minutes converted to hours will be\",x/60,)"
   ]
  },
  {
   "cell_type": "markdown",
   "id": "499c1a25",
   "metadata": {},
   "source": [
    "## Author: \n",
    "    Anant Gupta"
   ]
  }
 ],
 "metadata": {
  "kernelspec": {
   "display_name": "Python 3 (ipykernel)",
   "language": "python",
   "name": "python3"
  },
  "language_info": {
   "codemirror_mode": {
    "name": "ipython",
    "version": 3
   },
   "file_extension": ".py",
   "mimetype": "text/x-python",
   "name": "python",
   "nbconvert_exporter": "python",
   "pygments_lexer": "ipython3",
   "version": "3.11.5"
  }
 },
 "nbformat": 4,
 "nbformat_minor": 5
}
